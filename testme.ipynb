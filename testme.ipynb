{
 "cells": [
  {
   "cell_type": "code",
   "execution_count": 6,
   "metadata": {},
   "outputs": [],
   "source": [
    "\n",
    "!pip install --quiet openai datasets \n",
    "!pip install --quiet -U lancedb web3 requests duckdb"
   ]
  },
  {
   "cell_type": "code",
   "execution_count": 1,
   "metadata": {},
   "outputs": [],
   "source": [
    "import lancedb\n",
    "import web3\n",
    "import pandas as pd\n",
    "import datasource\n",
    "from lancedb.embeddings import with_embeddings\n",
    "import duckdb\n"
   ]
  },
  {
   "cell_type": "code",
   "execution_count": 2,
   "metadata": {},
   "outputs": [
    {
     "name": "stdout",
     "output_type": "stream",
     "text": [
      "creating table\n"
     ]
    }
   ],
   "source": [
    "import datasource\n",
    "db = lancedb.connect(\".lancedb\")\n",
    "tbname = \"addresstx\"\n",
    "tbl = None\n",
    "if tbname in db.table_names():\n",
    "    print (\"table exists\")\n",
    "    tbl = db.open_table(tbname)\n",
    "    addresstx = tbl.to_lance()\n",
    "    x = duckdb.query(\"SELECT * FROM addresstx USING SAMPLE 10\").to_df()\n",
    "\n",
    "    # for x in df.to_dict(orient='records'):\n",
    "    #     print (x)\n",
    "else:\n",
    "    print (\"creating table\")\n",
    "    \n",
    "    df = pd.DataFrame(datasource.generateRandomAddressPairs(100,100000))\n",
    "    for x in df.to_dict(orient='records'):\n",
    "        print (x)\n",
    "    data = with_embeddings(func = datasource.map_address_to_float, column=\"from\", data = df)\n",
    "    data = with_embeddings(func = datasource.map_address_to_float, column=\"to\", data = data)\n",
    "\n",
    "    tbl = db.create_table(tbname, data = data)\n",
    "\n"
   ]
  },
  {
   "cell_type": "code",
   "execution_count": null,
   "metadata": {},
   "outputs": [],
   "source": []
  }
 ],
 "metadata": {
  "kernelspec": {
   "display_name": "pydev10",
   "language": "python",
   "name": "python3"
  },
  "language_info": {
   "codemirror_mode": {
    "name": "ipython",
    "version": 3
   },
   "file_extension": ".py",
   "mimetype": "text/x-python",
   "name": "python",
   "nbconvert_exporter": "python",
   "pygments_lexer": "ipython3",
   "version": "3.10.11"
  },
  "orig_nbformat": 4
 },
 "nbformat": 4,
 "nbformat_minor": 2
}
